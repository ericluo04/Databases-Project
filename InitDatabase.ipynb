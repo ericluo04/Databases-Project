{
 "cells": [
  {
   "cell_type": "code",
   "execution_count": 1,
   "metadata": {},
   "outputs": [],
   "source": [
    "# Lan Luo, CPSC 437, Database Project\n",
    "# This file constructs a database from downloaded raw HTML files from the Yale Facebook for each college\n",
    "# that compiles basic information on each Yale students (first name, last name, class year, college, address,\n",
    "# country, major, and birthday) into a single relation."
   ]
  },
  {
   "cell_type": "code",
   "execution_count": 2,
   "metadata": {},
   "outputs": [],
   "source": [
    "# import HTML parser/processor\n",
    "from bs4 import BeautifulSoup\n",
    "# import to use for regex\n",
    "import re"
   ]
  },
  {
   "cell_type": "code",
   "execution_count": 27,
   "metadata": {},
   "outputs": [],
   "source": [
    "collegeraw = None\n",
    "college = None\n",
    "collegeraw = open('Silliman.html').read()\n",
    "college = BeautifulSoup(collegeraw, 'html.parser')"
   ]
  },
  {
   "cell_type": "code",
   "execution_count": 54,
   "metadata": {},
   "outputs": [],
   "source": [
    "classes = [student for student in college.find_all(\"div\", class_=\"student_container\")]"
   ]
  },
  {
   "cell_type": "code",
   "execution_count": 55,
   "metadata": {},
   "outputs": [],
   "source": [
    "students = []\n",
    "for x in classes:\n",
    "    students.append(str(x))\n",
    "for i in range(len(students)):\n",
    "    # remove extra html tags that won't be used to split the data\n",
    "    students[i] = students[i].replace(\"</div>\",\"\")\n",
    "    # replace html ampersand to &\n",
    "    students[i] = students[i].replace(\"&amp;\",\"&\")\n",
    "    # remove phone numbers (extraneous info - location information can be drawn from the home address)\n",
    "    students[i] = re.sub('<br/>(\\d{3} ?-)?\\d{3}-\\d{4} / ', \"\", students[i])\n",
    "    # remove strange sequences of numbers (e.g. ending in YS), not address information so extraneous\n",
    "    students[i] = re.sub('<br/>#? ?\\d* YS', \"\", students[i])\n",
    "    students[i] = re.sub('<br/>\\d-\\d{4} /', \"\", students[i])\n",
    "    students[i] = re.sub('<br/>\\d+ /', \"\", students[i])\n",
    "    # if there's an american zip code, then add United States as a country to be consistent with students who have information for their foreign home country\n",
    "    USzip = re.search('([A-Z]{2} \\d{5}-?(\\d{4})?)', students[i])\n",
    "    if USzip:\n",
    "        students[i] = students[i].replace(USzip.group(1), USzip.group(1) + \"<br/>United States\")    "
   ]
  },
  {
   "cell_type": "code",
   "execution_count": 95,
   "metadata": {
    "scrolled": true
   },
   "outputs": [
    {
     "data": {
      "text/plain": [
       "{3, 4, 5, 6, 7}"
      ]
     },
     "execution_count": 95,
     "metadata": {},
     "output_type": "execute_result"
    }
   ],
   "source": [
    "out = []\n",
    "for i in range(len(students)):\n",
    "    out.append(students[i].split(\"<br/>\"))\n",
    "    \n",
    "set(len(i) for i in out)"
   ]
  },
  {
   "cell_type": "code",
   "execution_count": 96,
   "metadata": {},
   "outputs": [
    {
     "data": {
      "text/plain": [
       "['<div class=\"student_container\"><div class=\"student_img\"><img alt=\"\" height=\"120\" src=\"/facebook/Photo?id=412684\" width=\"100\"/><div class=\"year_container\"><div class=\"student_year student_year_0\">\\'22<div class=\"year_border\">  <div class=\"student_text_container\"><div class=\"student_name\"><h5 class=\"yalehead\">Ababio, Rachel </h5><div class=\"student_info\"><a class=\"email\" href=\"mailto:rachel.ababio@yale.edu\">rachel.ababio@yale.edu</a>',\n",
       " 'SM-E52A ',\n",
       " '385 Camp St',\n",
       " 'Platteville, WI 53818-1706',\n",
       " 'United States',\n",
       " 'Undeclared',\n",
       " 'Jul 29']"
      ]
     },
     "execution_count": 96,
     "metadata": {},
     "output_type": "execute_result"
    }
   ],
   "source": [
    "out[0]"
   ]
  },
  {
   "cell_type": "code",
   "execution_count": 97,
   "metadata": {},
   "outputs": [],
   "source": [
    "fin = [i for i in out if len(i) == 7]\n",
    "copy_fin = fin[:] \n",
    "\n",
    "for i in range(len(copy_fin)):\n",
    "    yearsearch, emailsearch, lastsearch, firstsearch = None, None, None, None\n",
    "    \n",
    "    yearsearch = re.search('(\\d{2})<div class=\"year_border\">', copy_fin[i][0])\n",
    "    if yearsearch:\n",
    "        Year = \"20\" + yearsearch.group(1)\n",
    "    emailsearch = re.search('href=\"mailto:(.*)\">', copy_fin[i][0])\n",
    "    if emailsearch:\n",
    "        Email = emailsearch.group(1)\n",
    "           \n",
    "    lastsearch = re.search('<h5 class=\"yalehead\">(.*),', copy_fin[i][0])\n",
    "    if lastsearch:\n",
    "        LastName = lastsearch.group(1)\n",
    "    \n",
    "    firstsearch = re.search('<h5 class=\"yalehead\">.*, (.*) </h5>', copy_fin[i][0])\n",
    "    if firstsearch:\n",
    "        FirstName = firstsearch.group(1)\n",
    "        \n",
    "    del copy_fin[i][0]\n",
    "    copy_fin[i].insert(0, \"Benjamin Franklin\")\n",
    "    copy_fin[i].insert(0, Year)\n",
    "    copy_fin[i].insert(0, Email)\n",
    "    copy_fin[i].insert(0, LastName)\n",
    "    copy_fin[i].insert(0, FirstName)\n",
    "    # remove college tag at beginning of room sequence\n",
    "    tagindex = (copy_fin[i][5]).find('-')\n",
    "    copy_fin[i][5] = copy_fin[i][5][tagindex + 1:]"
   ]
  },
  {
   "cell_type": "code",
   "execution_count": 100,
   "metadata": {
    "scrolled": true
   },
   "outputs": [],
   "source": [
    "matchroomfin = []\n",
    "for i in range(len(copy_fin)):\n",
    "    if len(copy_fin[i][5]) <= 6:\n",
    "        if re.search('[A-Z][0-9]{2}[A-Z]?', copy_fin[i][5]):\n",
    "            matchroomfin.append(copy_fin[i])\n",
    "        if re.search('\\d{3}[A-Z]?', copy_fin[i][5]):\n",
    "            matchroomfin.append(copy_fin[i])"
   ]
  },
  {
   "cell_type": "code",
   "execution_count": 102,
   "metadata": {},
   "outputs": [
    {
     "data": {
      "text/plain": [
       "320"
      ]
     },
     "execution_count": 102,
     "metadata": {},
     "output_type": "execute_result"
    }
   ],
   "source": [
    "len(matchroomfin)"
   ]
  },
  {
   "cell_type": "code",
   "execution_count": null,
   "metadata": {},
   "outputs": [],
   "source": []
  }
 ],
 "metadata": {
  "kernelspec": {
   "display_name": "Python 2",
   "language": "python",
   "name": "python2"
  },
  "language_info": {
   "codemirror_mode": {
    "name": "ipython",
    "version": 2
   },
   "file_extension": ".py",
   "mimetype": "text/x-python",
   "name": "python",
   "nbconvert_exporter": "python",
   "pygments_lexer": "ipython2",
   "version": "2.7.15"
  }
 },
 "nbformat": 4,
 "nbformat_minor": 2
}
